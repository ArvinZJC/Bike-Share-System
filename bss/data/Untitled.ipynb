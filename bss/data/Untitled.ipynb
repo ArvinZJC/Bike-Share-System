{
 "cells": [
  {
   "cell_type": "code",
   "execution_count": 1,
   "id": "silent-bradford",
   "metadata": {},
   "outputs": [],
   "source": [
    "import sqlite3\n",
    "import pandas as pd\n",
    "import numpy as np"
   ]
  },
  {
   "cell_type": "code",
   "execution_count": 2,
   "id": "sound-conspiracy",
   "metadata": {},
   "outputs": [],
   "source": [
    "db_name = 'TEAM_PJT_1.db'\n",
    "conn = sqlite3.connect(db_name)\n",
    "c = conn.cursor()"
   ]
  },
  {
   "cell_type": "code",
   "execution_count": 14,
   "id": "imposed-fisher",
   "metadata": {},
   "outputs": [],
   "source": [
    "c.execute(\"SELECT * FROM bike\")\n",
    "lst = []\n",
    "columns = ['id','defective','location_row','location_col','mileage']\n",
    "for i in c.fetchall():\n",
    "    lst.append(i)\n",
    "    \n",
    "df_bike = pd.DataFrame(lst,columns=columns)\n",
    "df_bike.to_csv('bike.csv',index=False)"
   ]
  },
  {
   "cell_type": "code",
   "execution_count": 15,
   "id": "secret-classics",
   "metadata": {},
   "outputs": [],
   "source": [
    "c.execute(\"SELECT * FROM customer\")\n",
    "lst = []\n",
    "columns = ['id','name','password','wallet','location_row','location_col']\n",
    "for i in c.fetchall():\n",
    "    lst.append(i)\n",
    "    \n",
    "df_customer = pd.DataFrame(lst,columns=columns)\n",
    "df_customer.to_csv('customer.csv',index=False)"
   ]
  },
  {
   "cell_type": "code",
   "execution_count": 16,
   "id": "genuine-metadata",
   "metadata": {},
   "outputs": [],
   "source": [
    "c.execute(\"SELECT * FROM operator\")\n",
    "lst = []\n",
    "columns = ['id','name','password','account','skill_level']\n",
    "for i in c.fetchall():\n",
    "    lst.append(i)\n",
    "    \n",
    "df_operator = pd.DataFrame(lst,columns=columns)\n",
    "df_operator.to_csv('operator.csv',index=False)\n",
    "\n",
    "c.execute(\"SELECT * FROM manager\")\n",
    "lst = []\n",
    "columns = ['id','name','password']\n",
    "for i in c.fetchall():\n",
    "    lst.append(i)\n",
    "    \n",
    "df_manager = pd.DataFrame(lst,columns=columns)\n",
    "df_manager.to_csv('manager.csv',index=False)\n",
    "\n",
    "c.execute(\"SELECT * FROM companyMoney\")\n",
    "lst = []\n",
    "columns = ['account']\n",
    "for i in c.fetchall():\n",
    "    lst.append(i)\n",
    "    \n",
    "df_cM = pd.DataFrame(lst,columns=columns)\n",
    "df_cM.to_csv('companyMoney.csv',index=False)"
   ]
  },
  {
   "cell_type": "code",
   "execution_count": 17,
   "id": "daily-lingerie",
   "metadata": {},
   "outputs": [],
   "source": [
    "c.execute(\"SELECT * FROM transactions\")\n",
    "lst = []\n",
    "columns = ['sumOfMoney','timeOfEvent']\n",
    "for i in c.fetchall():\n",
    "    lst.append(i)\n",
    "    \n",
    "df_transactions = pd.DataFrame(lst,columns=columns)\n",
    "df_transactions.to_csv('transactions.csv',index=False)"
   ]
  },
  {
   "cell_type": "code",
   "execution_count": 18,
   "id": "virgin-klein",
   "metadata": {},
   "outputs": [],
   "source": [
    "c.execute(\"SELECT * FROM movement\")\n",
    "lst = []\n",
    "columns = ['movement_id','bike_id','user_id','distance','duration','startTime']\n",
    "for i in c.fetchall():\n",
    "    lst.append(i)\n",
    "    \n",
    "df_movements = pd.DataFrame(lst,columns=columns)\n",
    "df_movements.to_csv('movements.csv',index=False)"
   ]
  },
  {
   "cell_type": "code",
   "execution_count": 20,
   "id": "opposed-robin",
   "metadata": {},
   "outputs": [],
   "source": [
    "c.execute(\"SELECT * FROM bike_status\")\n",
    "lst = []\n",
    "columns = ['id','time_of_event','defective_start','defective_end']\n",
    "for i in c.fetchall():\n",
    "    lst.append(i)\n",
    "    \n",
    "df_bS = pd.DataFrame(lst,columns=columns)\n",
    "df_bS.to_csv('bike_status.csv',index=False)"
   ]
  },
  {
   "cell_type": "code",
   "execution_count": null,
   "id": "effective-revelation",
   "metadata": {},
   "outputs": [],
   "source": []
  }
 ],
 "metadata": {
  "kernelspec": {
   "display_name": "Python 3",
   "language": "python",
   "name": "python3"
  },
  "language_info": {
   "codemirror_mode": {
    "name": "ipython",
    "version": 3
   },
   "file_extension": ".py",
   "mimetype": "text/x-python",
   "name": "python",
   "nbconvert_exporter": "python",
   "pygments_lexer": "ipython3",
   "version": "3.9.1"
  }
 },
 "nbformat": 4,
 "nbformat_minor": 5
}
